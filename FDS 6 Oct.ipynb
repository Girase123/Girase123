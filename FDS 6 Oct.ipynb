{
 "cells": [
  {
   "cell_type": "code",
   "execution_count": 1,
   "id": "be437f7e-19a3-4f9a-ab81-fcac0f2a019c",
   "metadata": {},
   "outputs": [
    {
     "name": "stdout",
     "output_type": "stream",
     "text": [
      "\n",
      "Without Using Inbuilt Functions:\n",
      "Range: 33\n",
      "Variance: 102.62222222222222\n",
      "Standard Deviation: 10.130262692656208\n"
     ]
    }
   ],
   "source": [
    "data = [68, 65, 70, 82, 85, 75, 98, 80, 70, 85]\n",
    "\n",
    "# Range\n",
    "def calculate_range(data):\n",
    "    return max(data) - min(data)\n",
    "\n",
    "# Variance\n",
    "def calculate_variance(data):\n",
    "    mean = sum(data) / len(data)\n",
    "    squared_diffs = [(x - mean) ** 2 for x in data]\n",
    "    variance = sum(squared_diffs) / (len(data) - 1)  # sample variance\n",
    "    return variance\n",
    "\n",
    "# 3Standard Deviation\n",
    "def calculate_std_dev(data):\n",
    "    variance = calculate_variance(data)\n",
    "    return variance ** 0.5\n",
    "\n",
    "print(\"\\nWithout Using Inbuilt Functions:\")\n",
    "print(\"Range:\", calculate_range(data))\n",
    "print(\"Variance:\", calculate_variance(data))\n",
    "print(\"Standard Deviation:\", calculate_std_dev(data))\n"
   ]
  },
  {
   "cell_type": "code",
   "execution_count": 2,
   "id": "36459b4d-53c1-40f6-b4a8-4d61be3d32ac",
   "metadata": {},
   "outputs": [
    {
     "name": "stdout",
     "output_type": "stream",
     "text": [
      "Using Inbuilt Functions:\n",
      "Range: 33\n",
      "Variance: 102.62222222222222\n",
      "Standard Deviation: 10.130262692656208\n"
     ]
    }
   ],
   "source": [
    "import statistics as stats\n",
    "\n",
    "data = [68, 65, 70, 82, 85, 75, 98, 80, 70, 85]\n",
    "\n",
    "# Range\n",
    "range_value = max(data) - min(data)\n",
    "\n",
    "# Variance\n",
    "variance_value = stats.variance(data)\n",
    "\n",
    "# Standard Deviation\n",
    "std_dev_value = stats.stdev(data)\n",
    "\n",
    "print(\"Using Inbuilt Functions:\")\n",
    "print(\"Range:\", range_value)\n",
    "print(\"Variance:\", variance_value)\n",
    "print(\"Standard Deviation:\", std_dev_value)"
   ]
  },
  {
   "cell_type": "code",
   "execution_count": 3,
   "id": "57895969-ee68-49d5-9821-bc0b7ac586fe",
   "metadata": {},
   "outputs": [
    {
     "name": "stdout",
     "output_type": "stream",
     "text": [
      "[78, 65, 80, 92, 85, 75, 88, 90, 70, 85]\n"
     ]
    }
   ],
   "source": [
    "import pandas as pd\n",
    "\n",
    "df = pd.read_csv(\"C:/Users/lenovo/OneDrive/Desktop/student_marksToday.csv\")\n",
    "data = df['Marks'].tolist()\n",
    "print(data)"
   ]
  },
  {
   "cell_type": "code",
   "execution_count": null,
   "id": "8be2222a-2213-453b-8726-e09facbeb0db",
   "metadata": {},
   "outputs": [],
   "source": []
  }
 ],
 "metadata": {
  "kernelspec": {
   "display_name": "Python 3 (ipykernel)",
   "language": "python",
   "name": "python3"
  },
  "language_info": {
   "codemirror_mode": {
    "name": "ipython",
    "version": 3
   },
   "file_extension": ".py",
   "mimetype": "text/x-python",
   "name": "python",
   "nbconvert_exporter": "python",
   "pygments_lexer": "ipython3",
   "version": "3.13.5"
  }
 },
 "nbformat": 4,
 "nbformat_minor": 5
}
