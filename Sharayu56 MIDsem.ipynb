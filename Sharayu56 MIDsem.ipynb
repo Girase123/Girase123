{
 "cells": [
  {
   "cell_type": "code",
   "execution_count": 1,
   "id": "0787909b-cbc6-4700-80fb-664fe9f91eff",
   "metadata": {},
   "outputs": [],
   "source": [
    "import numpy as np "
   ]
  },
  {
   "cell_type": "code",
   "execution_count": 2,
   "id": "63fdcecb-b277-4d74-a7ce-47d63eb22403",
   "metadata": {},
   "outputs": [
    {
     "name": "stdout",
     "output_type": "stream",
     "text": [
      "Array:\n",
      " [[1 2 3]\n",
      " [4 5 6]]\n",
      "Shape: (2, 3)\n",
      "Size: 6\n",
      "Dimensions: 2\n",
      "Data Type: int64\n"
     ]
    }
   ],
   "source": [
    "#Array attributes\n",
    "\n",
    "import numpy as np\n",
    "\n",
    "arr = np.array([[1, 2, 3], [4, 5, 6]])     #define an array\n",
    "\n",
    "print(\"Array:\\n\", arr)                     #print array\n",
    "print(\"Shape:\", arr.shape)                 #print shape of array\n",
    "print(\"Size:\", arr.size)                   #print size of array\n",
    "print(\"Dimensions:\", arr.ndim)             #print dimension of array\n",
    "print(\"Data Type:\", arr.dtype)             #print data type of array\n"
   ]
  },
  {
   "cell_type": "code",
   "execution_count": 3,
   "id": "4aeb0080-4555-4465-8105-23f63c168ed5",
   "metadata": {},
   "outputs": [
    {
     "name": "stdout",
     "output_type": "stream",
     "text": [
      "Element at [0, 1]: 20\n",
      "First row: [10 20 30]\n",
      "Second column: [20 50]\n"
     ]
    }
   ],
   "source": [
    "#Array indexing \n",
    "\n",
    "arr = np.array([[10, 20, 30], [40, 50, 60]])\n",
    "\n",
    "# Access element at 1st row, 2nd column\n",
    "print(\"Element at [0, 1]:\", arr[0, 1])\n",
    "\n",
    "# Access entire first row\n",
    "print(\"First row:\", arr[0])\n",
    "\n",
    "# Access entire second column\n",
    "print(\"Second column:\", arr[:, 1])\n"
   ]
  },
  {
   "cell_type": "code",
   "execution_count": 4,
   "id": "85373804-a93a-4dd2-b222-7f5ef93cbf7c",
   "metadata": {},
   "outputs": [
    {
     "name": "stdout",
     "output_type": "stream",
     "text": [
      "arange(10): [0 1 2 3 4 5 6 7 8 9]\n",
      "Reshaped array (2x5):\n",
      " [[0 1 2 3 4]\n",
      " [5 6 7 8 9]]\n"
     ]
    }
   ],
   "source": [
    "#arrange and reshape \n",
    "\n",
    "# Create array from 0 to 9\n",
    "arr = np.arange(10)\n",
    "print(\"arange(10):\", arr)\n",
    "\n",
    "# Reshape to 2D array (2 rows, 5 columns)\n",
    "reshaped_arr = arr.reshape(2, 5)\n",
    "print(\"Reshaped array (2x5):\\n\", reshaped_arr)"
   ]
  },
  {
   "cell_type": "code",
   "execution_count": 5,
   "id": "9193e8fb-a85e-40e0-89f7-68039f771c5b",
   "metadata": {},
   "outputs": [
    {
     "name": "stdout",
     "output_type": "stream",
     "text": [
      "Addition: [5 7 9]\n",
      "Subtraction: [-3 -3 -3]\n",
      "Multiplication: [ 4 10 18]\n",
      "Division: [0.25 0.4  0.5 ]\n",
      "Power: [1 4 9]\n"
     ]
    }
   ],
   "source": [
    "#aritematic operations in array\n",
    "\n",
    "a = np.array([1, 2, 3])\n",
    "b = np.array([4, 5, 6])\n",
    "\n",
    "print(\"Addition:\", a + b)\n",
    "print(\"Subtraction:\", a - b)\n",
    "print(\"Multiplication:\", a * b)\n",
    "print(\"Division:\", a / b)\n",
    "print(\"Power:\", a ** 2)"
   ]
  },
  {
   "cell_type": "code",
   "execution_count": 6,
   "id": "84535274-3372-4e00-9975-a9cc8aec85e9",
   "metadata": {},
   "outputs": [],
   "source": [
    "#SELF LEARNING TOPICS"
   ]
  },
  {
   "cell_type": "code",
   "execution_count": 7,
   "id": "e946fa3f-919d-412c-8255-1ba75eabdd3f",
   "metadata": {},
   "outputs": [
    {
     "name": "stdout",
     "output_type": "stream",
     "text": [
      "linspace(0, 1, 5): [0.   0.25 0.5  0.75 1.  ]\n"
     ]
    }
   ],
   "source": [
    "#creates equally spaced numbers\n",
    "\n",
    "arr = np.linspace(0, 1, 5)\n",
    "print(\"linspace(0, 1, 5):\", arr)"
   ]
  },
  {
   "cell_type": "code",
   "execution_count": 8,
   "id": "bd091056-d2b5-4a43-9122-0a221ea2c2b5",
   "metadata": {},
   "outputs": [
    {
     "name": "stdout",
     "output_type": "stream",
     "text": [
      "diff: [5 5 5]\n"
     ]
    }
   ],
   "source": [
    "#difference between adjacent elements\n",
    "\n",
    "arr = np.array([10, 15, 20, 25])\n",
    "print(\"diff:\", np.diff(arr))  # [5, 5, 5]"
   ]
  },
  {
   "cell_type": "code",
   "execution_count": 9,
   "id": "de8aa070-c348-445d-a887-88dac82db626",
   "metadata": {},
   "outputs": [],
   "source": [
    "#CODES DURING LAB"
   ]
  },
  {
   "cell_type": "code",
   "execution_count": 10,
   "id": "c66cec0e-036b-4c6d-9e30-eff633a918ba",
   "metadata": {},
   "outputs": [
    {
     "name": "stdout",
     "output_type": "stream",
     "text": [
      "[[1 2 3]\n",
      " [4 5 6]\n",
      " [7 8 9]]\n"
     ]
    }
   ],
   "source": [
    "arr=np.array([[1, 2, 3], [4, 5, 6], [7, 8, 9]])\n",
    "print(arr)"
   ]
  },
  {
   "cell_type": "code",
   "execution_count": 11,
   "id": "1b157440-c1d6-40b7-8964-c850b6eac5f8",
   "metadata": {},
   "outputs": [
    {
     "name": "stdout",
     "output_type": "stream",
     "text": [
      "[[10 11 12]\n",
      " [13 14 15]\n",
      " [16 17 18]]\n"
     ]
    }
   ],
   "source": [
    "arr1=np.array([[10, 11, 12], [13, 14, 15], [16, 17, 18]])\n",
    "print(arr1)"
   ]
  },
  {
   "cell_type": "code",
   "execution_count": 12,
   "id": "8a45dbf9-32af-4ef7-808d-28029750be1b",
   "metadata": {},
   "outputs": [
    {
     "name": "stdout",
     "output_type": "stream",
     "text": [
      "[0. 0. 0. 0. 0.]\n"
     ]
    }
   ],
   "source": [
    "import numpy as np\n",
    "arr2=np.zeros(5)\n",
    "print(arr2)"
   ]
  },
  {
   "cell_type": "code",
   "execution_count": 13,
   "id": "2f0d0a9a-da47-423f-b2a9-5bb84aa9a25b",
   "metadata": {},
   "outputs": [
    {
     "name": "stdout",
     "output_type": "stream",
     "text": [
      "Zero Array:\n",
      " [0. 0. 0.]\n",
      "Data type: float64\n",
      "Data type: int64\n"
     ]
    }
   ],
   "source": [
    "import numpy as np\n",
    "\n",
    "arr = np.zeros(3)\n",
    "print(\"Zero Array:\\n\", arr)\n",
    "print(\"Data type:\", arr.dtype)\n",
    "arr.dtype=int\n",
    "print(\"Data type:\", arr.dtype)"
   ]
  },
  {
   "cell_type": "code",
   "execution_count": 14,
   "id": "3ecd890a-ff09-4476-95f7-ff99d8e519f5",
   "metadata": {},
   "outputs": [
    {
     "name": "stdout",
     "output_type": "stream",
     "text": [
      "Zero Array with int dtype:\n",
      " [0 0 0]\n"
     ]
    }
   ],
   "source": [
    "import numpy as np\n",
    "\n",
    "arr = np.zeros(3, dtype = int)\n",
    "print(\"Zero Array with int dtype:\\n\", arr)"
   ]
  },
  {
   "cell_type": "code",
   "execution_count": 15,
   "id": "f031f604-6063-4d93-a80a-bd0653c135ef",
   "metadata": {},
   "outputs": [
    {
     "name": "stdout",
     "output_type": "stream",
     "text": [
      "One Array:\n",
      " [1. 1. 1.]\n",
      "Data type: float64\n"
     ]
    }
   ],
   "source": [
    "import numpy as np\n",
    "\n",
    "arr = np.ones(3)\n",
    "print(\"One Array:\\n\", arr)\n",
    "print(\"Data type:\", arr.dtype)"
   ]
  },
  {
   "cell_type": "code",
   "execution_count": 16,
   "id": "8b5ec5bd-305f-46dc-992c-157431688808",
   "metadata": {},
   "outputs": [
    {
     "name": "stdout",
     "output_type": "stream",
     "text": [
      "One Array with int dtype:\n",
      " [1 1 1]\n"
     ]
    }
   ],
   "source": [
    "import numpy as np\n",
    "\n",
    "arr = np.ones(3, dtype = int)\n",
    "print(\"One Array with int dtype:\\n\", arr)"
   ]
  },
  {
   "cell_type": "code",
   "execution_count": 17,
   "id": "bd76aef5-015a-4952-8eef-e86f7ffb6c33",
   "metadata": {},
   "outputs": [
    {
     "name": "stdout",
     "output_type": "stream",
     "text": [
      "Array :\n",
      " [[ 4  3  5]\n",
      " [ 2  1  6]\n",
      " [ 7  8  9]\n",
      " [10 11 12]]\n",
      "Shape of the array: (4, 3)\n",
      "Data type of the array: int64\n",
      "Size of the array: 12\n",
      "Number of dimensions of the array: 2\n"
     ]
    }
   ],
   "source": [
    "arr=np.array([[4,3,5],[2,1,6],[7,8,9],[10,11,12]])\n",
    "print(\"Array :\\n\", arr)\n",
    "print(\"Shape of the array:\", arr.shape)\n",
    "print(\"Data type of the array:\", arr.dtype)\n",
    "print(\"Size of the array:\", arr.size)\n",
    "print(\"Number of dimensions of the array:\", arr.ndim)"
   ]
  },
  {
   "cell_type": "code",
   "execution_count": 18,
   "id": "b6b943a8-0bd4-4374-872a-acf52fcc5bce",
   "metadata": {},
   "outputs": [
    {
     "name": "stdout",
     "output_type": "stream",
     "text": [
      "Array :\n",
      " [[[ 4  3  5]\n",
      "  [ 2  1  6]]\n",
      "\n",
      " [[ 7  8  9]\n",
      "  [10 11 12]]]\n",
      "Shape of the array: (2, 2, 3)\n",
      "Data type of the array: int64\n",
      "Size of the array: 12\n",
      "Number of dimensions of the array: 3\n"
     ]
    }
   ],
   "source": [
    "arr=np.array([[[4,3,5],[2,1,6]],[[7,8,9],[10,11,12]]])\n",
    "print(\"Array :\\n\", arr)\n",
    "print(\"Shape of the array:\", arr.shape)\n",
    "print(\"Data type of the array:\", arr.dtype)\n",
    "print(\"Size of the array:\", arr.size)\n",
    "print(\"Number of dimensions of the array:\", arr.ndim)"
   ]
  },
  {
   "cell_type": "code",
   "execution_count": 19,
   "id": "dcbdf2bf-d715-4cfb-a62e-1b12db34eb21",
   "metadata": {},
   "outputs": [
    {
     "name": "stdout",
     "output_type": "stream",
     "text": [
      "Axis 1:\n",
      " [[ 4  3  5]\n",
      " [ 2  1  6]\n",
      " [ 7  8  9]\n",
      " [10 11 12]]\n"
     ]
    },
    {
     "data": {
      "text/plain": [
       "array([[ 4,  3,  5],\n",
       "       [ 2,  1,  6],\n",
       "       [ 7,  8,  9],\n",
       "       [10, 11, 12]])"
      ]
     },
     "execution_count": 19,
     "metadata": {},
     "output_type": "execute_result"
    }
   ],
   "source": [
    "axis1=np.array([[4,3,5],[2,1,6],[7,8,9],[10,11,12]])\n",
    "print(\"Axis 1:\\n\", axis1)\n",
    "np.swapaxes(axis1, 0, 0)\n"
   ]
  },
  {
   "cell_type": "code",
   "execution_count": 20,
   "id": "712b49c2-9e81-4082-ab65-308800f63a33",
   "metadata": {},
   "outputs": [
    {
     "data": {
      "text/plain": [
       "np.int64(12)"
      ]
     },
     "execution_count": 20,
     "metadata": {},
     "output_type": "execute_result"
    }
   ],
   "source": [
    "arr=np.array([[[4,3,5],[2,1,6]],[[7,8,9],[10,11,12]]])\n",
    "np.max(arr)"
   ]
  },
  {
   "cell_type": "code",
   "execution_count": 21,
   "id": "0c0f4243-1a2c-4d5b-89db-247584e65e65",
   "metadata": {},
   "outputs": [
    {
     "name": "stdout",
     "output_type": "stream",
     "text": [
      "Linearly spaced array: [ 0.   2.5  5.   7.5 10. ]\n"
     ]
    }
   ],
   "source": [
    "import numpy as np\n",
    "result= np.linspace(0, 10, num=5)\n",
    "print(\"Linearly spaced array:\", result)\n"
   ]
  },
  {
   "cell_type": "code",
   "execution_count": 22,
   "id": "ae54417a-5c4a-4a69-8939-21d4ebea23a0",
   "metadata": {},
   "outputs": [
    {
     "name": "stdout",
     "output_type": "stream",
     "text": [
      "Original Array:\n",
      " [1 2 3 4 5 6]\n",
      "Reshaped Array:\n",
      " [[1 2 3]\n",
      " [4 5 6]]\n"
     ]
    }
   ],
   "source": [
    "import numpy as np\n",
    "\n",
    "arr = np.array([1, 2, 3, 4, 5, 6])\n",
    "reshaped_arr = arr.reshape(2, 3)\n",
    "print(\"Original Array:\\n\", arr)\n",
    "print(\"Reshaped Array:\\n\", reshaped_arr)"
   ]
  },
  {
   "cell_type": "code",
   "execution_count": 23,
   "id": "8e715974-bc38-4b40-949a-e4d27d73c495",
   "metadata": {},
   "outputs": [
    {
     "data": {
      "text/plain": [
       "array([ 1,  2,  3,  4,  5,  6,  7,  8,  9, 10, 11])"
      ]
     },
     "execution_count": 23,
     "metadata": {},
     "output_type": "execute_result"
    }
   ],
   "source": [
    "import numpy as np\n",
    "array=np.arange(1,12)\n",
    "array"
   ]
  },
  {
   "cell_type": "code",
   "execution_count": 24,
   "id": "20f54926-2f22-41ef-8305-f7f3fbb6e107",
   "metadata": {},
   "outputs": [
    {
     "data": {
      "text/plain": [
       "array([[ 2,  3,  4],\n",
       "       [ 5,  6,  7],\n",
       "       [ 8,  9, 10]])"
      ]
     },
     "execution_count": 24,
     "metadata": {},
     "output_type": "execute_result"
    }
   ],
   "source": [
    "import numpy as np\n",
    "array=np.arange(2,11)\n",
    "array\n",
    "array.reshape(3,3)"
   ]
  },
  {
   "cell_type": "code",
   "execution_count": 25,
   "id": "dadf6b3b-ee86-46fa-9c5a-b420cbfa0921",
   "metadata": {},
   "outputs": [
    {
     "data": {
      "text/plain": [
       "array([ 1,  3,  5,  7,  9, 11])"
      ]
     },
     "execution_count": 25,
     "metadata": {},
     "output_type": "execute_result"
    }
   ],
   "source": [
    "import numpy as np\n",
    "array=np.arange(1,12,2)\n",
    "array\n"
   ]
  },
  {
   "cell_type": "code",
   "execution_count": 26,
   "id": "9ba579f0-8925-4474-87ed-725b804c639d",
   "metadata": {},
   "outputs": [
    {
     "name": "stdout",
     "output_type": "stream",
     "text": [
      "Sum [[11 13 15]\n",
      " [17 19 21]\n",
      " [23 25 27]]\n"
     ]
    }
   ],
   "source": [
    "import numpy as np \n",
    "x=np.array([[1, 2, 3], [4, 5, 6], [7, 8, 9]])\n",
    "y=np.array([[10, 11, 12], [13, 14, 15], [16, 17, 18]])\n",
    "print(\"Sum\", x + y)"
   ]
  },
  {
   "cell_type": "code",
   "execution_count": 27,
   "id": "14e2834e-5274-4c32-816b-be2cf4d20aa0",
   "metadata": {},
   "outputs": [
    {
     "name": "stdout",
     "output_type": "stream",
     "text": [
      "Using np.divide: [5. 4. 3.]\n",
      "Using / operator: [5. 4. 3.]\n"
     ]
    }
   ],
   "source": [
    "a = np.array([10, 20, 30])\n",
    "b = np.array([2, 5, 10])\n",
    "\n",
    "# Element-wise division using np.divide\n",
    "result1 = np.divide(a, b)\n",
    "\n",
    "# Element-wise division using /\n",
    "result2 = a / b\n",
    "\n",
    "print(\"Using np.divide:\", result1)\n",
    "print(\"Using / operator:\", result2)\n"
   ]
  },
  {
   "cell_type": "code",
   "execution_count": 28,
   "id": "0ea5a447-d747-44b4-96fa-9cdbb5d3d0e4",
   "metadata": {},
   "outputs": [
    {
     "name": "stdout",
     "output_type": "stream",
     "text": [
      "Using np.multiply: [ 6 20 42]\n",
      "Using * operator: [ 6 20 42]\n"
     ]
    }
   ],
   "source": [
    "# Example arrays\n",
    "a = np.array([2, 4, 6])\n",
    "b = np.array([3, 5, 7])\n",
    "\n",
    "# Element-wise multiplication using np.multiply\n",
    "result1 = np.multiply(a, b)\n",
    "\n",
    "# Element-wise multiplication using * operator\n",
    "result2 = a * b\n",
    "\n",
    "print(\"Using np.multiply:\", result1)\n",
    "print(\"Using * operator:\", result2)\n"
   ]
  },
  {
   "cell_type": "code",
   "execution_count": 30,
   "id": "4393636c-82c2-4408-bf0c-1a2bfd0e9d63",
   "metadata": {},
   "outputs": [
    {
     "name": "stdout",
     "output_type": "stream",
     "text": [
      "Addition: [12 25 40]\n",
      "Subtraction: [ 8 15 20]\n",
      "Multiplication: [ 20 100 300]\n",
      "Division: [5. 4. 3.]\n",
      "Modulus: [0 0 0]\n",
      "Power: [            100         3200000 590490000000000]\n"
     ]
    }
   ],
   "source": [
    "# Sample arrays\n",
    "a = np.array([10, 20, 30])\n",
    "b = np.array([2, 5, 10])\n",
    "\n",
    "# Addition\n",
    "add_result = np.add(a, b)       # or a + b\n",
    "\n",
    "# Subtraction\n",
    "sub_result = np.subtract(a, b)  # or a - b\n",
    "\n",
    "# Multiplication\n",
    "mul_result = np.multiply(a, b)  # or a * b\n",
    "\n",
    "# Division\n",
    "div_result = np.divide(a, b)    # or a / b\n",
    "\n",
    "# Modulus (remainder)\n",
    "mod_result = np.mod(a, b)       # or a % b\n",
    "\n",
    "# Power\n",
    "pow_result = np.power(a, b)     # or a ** b\n",
    "\n",
    "# Print results\n",
    "print(\"Addition:\", add_result)\n",
    "print(\"Subtraction:\", sub_result)\n",
    "print(\"Multiplication:\", mul_result)\n",
    "print(\"Division:\", div_result)\n",
    "print(\"Modulus:\", mod_result)\n",
    "print(\"Power:\", pow_result)"
   ]
  },
  {
   "cell_type": "code",
   "execution_count": 31,
   "id": "2a88bd49-3e92-4c2f-bb19-3d4f1b596bd1",
   "metadata": {},
   "outputs": [
    {
     "data": {
      "text/plain": [
       "array([0, 0, 1, 1, 1, 1])"
      ]
     },
     "execution_count": 31,
     "metadata": {},
     "output_type": "execute_result"
    }
   ],
   "source": [
    "arr > 2                 # Boolean mask\n",
    "arr[arr > 2]            # Filtered values\n",
    "np.where(arr > 2, 1, 0) # Replace values conditionally"
   ]
  },
  {
   "cell_type": "code",
   "execution_count": 32,
   "id": "d793272b-bcd1-4db4-a21d-8840756641c8",
   "metadata": {},
   "outputs": [
    {
     "data": {
      "text/plain": [
       "np.int64(5)"
      ]
     },
     "execution_count": 32,
     "metadata": {},
     "output_type": "execute_result"
    }
   ],
   "source": [
    "np.sum(arr)             # Total sum\n",
    "np.mean(arr)            # Average\n",
    "np.std(arr)             # Standard deviation\n",
    "np.max(arr), np.min(arr) # Max and min\n",
    "np.argmax(arr)          # Index of max"
   ]
  },
  {
   "cell_type": "code",
   "execution_count": null,
   "id": "b079cb5b-3bf5-44dc-998a-9c3c5edf07ae",
   "metadata": {},
   "outputs": [],
   "source": []
  }
 ],
 "metadata": {
  "kernelspec": {
   "display_name": "Python 3 (ipykernel)",
   "language": "python",
   "name": "python3"
  },
  "language_info": {
   "codemirror_mode": {
    "name": "ipython",
    "version": 3
   },
   "file_extension": ".py",
   "mimetype": "text/x-python",
   "name": "python",
   "nbconvert_exporter": "python",
   "pygments_lexer": "ipython3",
   "version": "3.13.5"
  }
 },
 "nbformat": 4,
 "nbformat_minor": 5
}
