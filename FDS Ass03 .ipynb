{
 "cells": [
  {
   "cell_type": "code",
   "execution_count": 1,
   "id": "2b0c124d-4086-463c-a2ae-0ad061c9daff",
   "metadata": {},
   "outputs": [
    {
     "name": "stdout",
     "output_type": "stream",
     "text": [
      "\n",
      "Without Using Inbuilt Functions:\n",
      "Mean: 25.8\n",
      "Median: 26.0\n",
      "Mode: [22]\n"
     ]
    }
   ],
   "source": [
    "data = [22, 25, 22, 28, 29, 22, 27, 30, 28, 25]\n",
    "\n",
    "#Mean\n",
    "def calculate_mean(data):\n",
    "    return sum(data) / len(data)\n",
    "\n",
    "#Median\n",
    "def calculate_median(data):\n",
    "    sorted_data = sorted(data)\n",
    "    n = len(sorted_data)\n",
    "    mid = n // 2\n",
    "    if n % 2 == 0:\n",
    "        median = (sorted_data[mid - 1] + sorted_data[mid]) / 2\n",
    "    else:\n",
    "        median = sorted_data[mid]\n",
    "    return median\n",
    "\n",
    "#Mode\n",
    "def calculate_mode(data):\n",
    "    freq = {}\n",
    "    for val in data:\n",
    "        freq[val] = freq.get(val, 0) + 1\n",
    "    max_freq = max(freq.values())\n",
    "    mode = [key for key, value in freq.items() if value == max_freq]\n",
    "    return mode\n",
    "\n",
    "print(\"\\nWithout Using Inbuilt Functions:\")\n",
    "print(\"Mean:\", calculate_mean(data))\n",
    "print(\"Median:\", calculate_median(data))\n",
    "print(\"Mode:\", calculate_mode(data))"
   ]
  },
  {
   "cell_type": "code",
   "execution_count": 2,
   "id": "6b4b196f-349c-48d1-899d-19a5459940ff",
   "metadata": {},
   "outputs": [
    {
     "name": "stdout",
     "output_type": "stream",
     "text": [
      "Using Inbuilt Functions:\n",
      "Mean: 25.8\n",
      "Median: 26.0\n",
      "Mode: 22\n"
     ]
    }
   ],
   "source": [
    "import statistics as stats\n",
    "\n",
    "data = [22, 25, 22, 28, 29, 22, 27, 30, 28, 25]\n",
    "\n",
    "# Mean\n",
    "mean_value = stats.mean(data)\n",
    "\n",
    "# Median\n",
    "median_value = stats.median(data)\n",
    "\n",
    "# Mode\n",
    "mode_value = stats.mode(data)\n",
    "\n",
    "print(\"Using Inbuilt Functions:\")\n",
    "print(\"Mean:\", mean_value)\n",
    "print(\"Median:\", median_value)\n",
    "print(\"Mode:\", mode_value)"
   ]
  },
  {
   "cell_type": "code",
   "execution_count": 3,
   "id": "f86a52d8-4878-44fc-a7ea-dea6a3d68cb2",
   "metadata": {},
   "outputs": [
    {
     "name": "stdout",
     "output_type": "stream",
     "text": [
      "[78, 65, 80, 92, 85, 75, 88, 90, 70, 85]\n"
     ]
    }
   ],
   "source": [
    "import pandas as pd\n",
    "\n",
    "df = pd.read_csv(\"C:/Users/lenovo/OneDrive/Desktop/student_marksToday.csv\")\n",
    "data = df['Marks'].tolist()\n",
    "print(data)"
   ]
  },
  {
   "cell_type": "code",
   "execution_count": null,
   "id": "108ae256-18e2-4db5-8ad7-fdb82c8ce393",
   "metadata": {},
   "outputs": [],
   "source": []
  }
 ],
 "metadata": {
  "kernelspec": {
   "display_name": "Python 3 (ipykernel)",
   "language": "python",
   "name": "python3"
  },
  "language_info": {
   "codemirror_mode": {
    "name": "ipython",
    "version": 3
   },
   "file_extension": ".py",
   "mimetype": "text/x-python",
   "name": "python",
   "nbconvert_exporter": "python",
   "pygments_lexer": "ipython3",
   "version": "3.13.5"
  }
 },
 "nbformat": 4,
 "nbformat_minor": 5
}
