{
 "cells": [
  {
   "cell_type": "code",
   "execution_count": 1,
   "id": "2132b238-d855-432b-ba71-de209d6623df",
   "metadata": {},
   "outputs": [
    {
     "name": "stdout",
     "output_type": "stream",
     "text": [
      "   EmpID        Name  Age  Gender Department   Salary JoiningDate  \\\n",
      "0      1  Employee_1   50  Female      Sales  90000.0  2015-01-01   \n",
      "1      2  Employee_2   36    Male    Finance  62500.0  2015-01-02   \n",
      "2      3  Employee_3   29    Male    Finance  39500.0  2015-01-03   \n",
      "3      4  Employee_4   42    Male      Sales  35000.0  2015-01-04   \n",
      "4      5  Employee_5   40    Male    Finance  41500.0  2015-01-05   \n",
      "\n",
      "   PerformanceScore  WorkHours  \n",
      "0               3.0       43.0  \n",
      "1               2.0       54.0  \n",
      "2               1.0       54.0  \n",
      "3               4.0       37.0  \n",
      "4               4.0       37.0  \n"
     ]
    }
   ],
   "source": [
    "import pandas as pd\n",
    "\n",
    "# Load dataset\n",
    "df = pd.read_csv(\"C:/Users/lenovo/Downloads/employee_dataset.csv\")\n",
    "\n",
    "print(df.head())"
   ]
  },
  {
   "cell_type": "code",
   "execution_count": 5,
   "id": "16aa8df4-0f66-49cf-9c6c-311e03d48353",
   "metadata": {},
   "outputs": [
    {
     "data": {
      "text/plain": [
       "EmpID                 0\n",
       "Name                  0\n",
       "Age                   0\n",
       "Gender                0\n",
       "Department            0\n",
       "Salary                5\n",
       "JoiningDate           0\n",
       "PerformanceScore    177\n",
       "WorkHours            37\n",
       "dtype: int64"
      ]
     },
     "execution_count": 5,
     "metadata": {},
     "output_type": "execute_result"
    }
   ],
   "source": [
    "df.isnull().sum() "
   ]
  },
  {
   "cell_type": "code",
   "execution_count": 7,
   "id": "60314cee-01e3-49a2-bbd9-ba8957ea020e",
   "metadata": {},
   "outputs": [
    {
     "data": {
      "text/html": [
       "<div>\n",
       "<style scoped>\n",
       "    .dataframe tbody tr th:only-of-type {\n",
       "        vertical-align: middle;\n",
       "    }\n",
       "\n",
       "    .dataframe tbody tr th {\n",
       "        vertical-align: top;\n",
       "    }\n",
       "\n",
       "    .dataframe thead th {\n",
       "        text-align: right;\n",
       "    }\n",
       "</style>\n",
       "<table border=\"1\" class=\"dataframe\">\n",
       "  <thead>\n",
       "    <tr style=\"text-align: right;\">\n",
       "      <th></th>\n",
       "      <th>EmpID</th>\n",
       "      <th>Name</th>\n",
       "      <th>Age</th>\n",
       "      <th>Gender</th>\n",
       "      <th>Department</th>\n",
       "      <th>Salary</th>\n",
       "      <th>JoiningDate</th>\n",
       "      <th>PerformanceScore</th>\n",
       "      <th>WorkHours</th>\n",
       "    </tr>\n",
       "  </thead>\n",
       "  <tbody>\n",
       "    <tr>\n",
       "      <th>0</th>\n",
       "      <td>1</td>\n",
       "      <td>Employee_1</td>\n",
       "      <td>50</td>\n",
       "      <td>Female</td>\n",
       "      <td>Sales</td>\n",
       "      <td>90000.0</td>\n",
       "      <td>2015-01-01</td>\n",
       "      <td>3.0</td>\n",
       "      <td>43.0</td>\n",
       "    </tr>\n",
       "    <tr>\n",
       "      <th>1</th>\n",
       "      <td>2</td>\n",
       "      <td>Employee_2</td>\n",
       "      <td>36</td>\n",
       "      <td>Male</td>\n",
       "      <td>Finance</td>\n",
       "      <td>62500.0</td>\n",
       "      <td>2015-01-02</td>\n",
       "      <td>2.0</td>\n",
       "      <td>54.0</td>\n",
       "    </tr>\n",
       "    <tr>\n",
       "      <th>2</th>\n",
       "      <td>3</td>\n",
       "      <td>Employee_3</td>\n",
       "      <td>29</td>\n",
       "      <td>Male</td>\n",
       "      <td>Finance</td>\n",
       "      <td>39500.0</td>\n",
       "      <td>2015-01-03</td>\n",
       "      <td>1.0</td>\n",
       "      <td>54.0</td>\n",
       "    </tr>\n",
       "    <tr>\n",
       "      <th>3</th>\n",
       "      <td>4</td>\n",
       "      <td>Employee_4</td>\n",
       "      <td>42</td>\n",
       "      <td>Male</td>\n",
       "      <td>Sales</td>\n",
       "      <td>35000.0</td>\n",
       "      <td>2015-01-04</td>\n",
       "      <td>4.0</td>\n",
       "      <td>37.0</td>\n",
       "    </tr>\n",
       "    <tr>\n",
       "      <th>4</th>\n",
       "      <td>5</td>\n",
       "      <td>Employee_5</td>\n",
       "      <td>40</td>\n",
       "      <td>Male</td>\n",
       "      <td>Finance</td>\n",
       "      <td>41500.0</td>\n",
       "      <td>2015-01-05</td>\n",
       "      <td>4.0</td>\n",
       "      <td>37.0</td>\n",
       "    </tr>\n",
       "    <tr>\n",
       "      <th>...</th>\n",
       "      <td>...</td>\n",
       "      <td>...</td>\n",
       "      <td>...</td>\n",
       "      <td>...</td>\n",
       "      <td>...</td>\n",
       "      <td>...</td>\n",
       "      <td>...</td>\n",
       "      <td>...</td>\n",
       "      <td>...</td>\n",
       "    </tr>\n",
       "    <tr>\n",
       "      <th>995</th>\n",
       "      <td>996</td>\n",
       "      <td>Employee_996</td>\n",
       "      <td>34</td>\n",
       "      <td>Female</td>\n",
       "      <td>HR</td>\n",
       "      <td>31000.0</td>\n",
       "      <td>2017-09-22</td>\n",
       "      <td>2.0</td>\n",
       "      <td>36.0</td>\n",
       "    </tr>\n",
       "    <tr>\n",
       "      <th>996</th>\n",
       "      <td>997</td>\n",
       "      <td>Employee_997</td>\n",
       "      <td>51</td>\n",
       "      <td>Female</td>\n",
       "      <td>IT</td>\n",
       "      <td>56500.0</td>\n",
       "      <td>2017-09-23</td>\n",
       "      <td>1.0</td>\n",
       "      <td>44.0</td>\n",
       "    </tr>\n",
       "    <tr>\n",
       "      <th>997</th>\n",
       "      <td>998</td>\n",
       "      <td>Employee_998</td>\n",
       "      <td>44</td>\n",
       "      <td>Male</td>\n",
       "      <td>Finance</td>\n",
       "      <td>98000.0</td>\n",
       "      <td>2017-09-24</td>\n",
       "      <td>4.0</td>\n",
       "      <td>51.0</td>\n",
       "    </tr>\n",
       "    <tr>\n",
       "      <th>998</th>\n",
       "      <td>999</td>\n",
       "      <td>Employee_999</td>\n",
       "      <td>40</td>\n",
       "      <td>Female</td>\n",
       "      <td>Sales</td>\n",
       "      <td>64500.0</td>\n",
       "      <td>2017-09-25</td>\n",
       "      <td>1.0</td>\n",
       "      <td>53.0</td>\n",
       "    </tr>\n",
       "    <tr>\n",
       "      <th>999</th>\n",
       "      <td>1000</td>\n",
       "      <td>Employee_1000</td>\n",
       "      <td>53</td>\n",
       "      <td>Female</td>\n",
       "      <td>Sales</td>\n",
       "      <td>86000.0</td>\n",
       "      <td>2017-09-26</td>\n",
       "      <td>5.0</td>\n",
       "      <td>40.0</td>\n",
       "    </tr>\n",
       "  </tbody>\n",
       "</table>\n",
       "<p>789 rows × 9 columns</p>\n",
       "</div>"
      ],
      "text/plain": [
       "     EmpID           Name  Age  Gender Department   Salary JoiningDate  \\\n",
       "0        1     Employee_1   50  Female      Sales  90000.0  2015-01-01   \n",
       "1        2     Employee_2   36    Male    Finance  62500.0  2015-01-02   \n",
       "2        3     Employee_3   29    Male    Finance  39500.0  2015-01-03   \n",
       "3        4     Employee_4   42    Male      Sales  35000.0  2015-01-04   \n",
       "4        5     Employee_5   40    Male    Finance  41500.0  2015-01-05   \n",
       "..     ...            ...  ...     ...        ...      ...         ...   \n",
       "995    996   Employee_996   34  Female         HR  31000.0  2017-09-22   \n",
       "996    997   Employee_997   51  Female         IT  56500.0  2017-09-23   \n",
       "997    998   Employee_998   44    Male    Finance  98000.0  2017-09-24   \n",
       "998    999   Employee_999   40  Female      Sales  64500.0  2017-09-25   \n",
       "999   1000  Employee_1000   53  Female      Sales  86000.0  2017-09-26   \n",
       "\n",
       "     PerformanceScore  WorkHours  \n",
       "0                 3.0       43.0  \n",
       "1                 2.0       54.0  \n",
       "2                 1.0       54.0  \n",
       "3                 4.0       37.0  \n",
       "4                 4.0       37.0  \n",
       "..                ...        ...  \n",
       "995               2.0       36.0  \n",
       "996               1.0       44.0  \n",
       "997               4.0       51.0  \n",
       "998               1.0       53.0  \n",
       "999               5.0       40.0  \n",
       "\n",
       "[789 rows x 9 columns]"
      ]
     },
     "execution_count": 7,
     "metadata": {},
     "output_type": "execute_result"
    }
   ],
   "source": [
    "df.dropna()  "
   ]
  },
  {
   "cell_type": "code",
   "execution_count": 8,
   "id": "cd698efd-a4a1-4946-9a4e-fd1c39eeca75",
   "metadata": {},
   "outputs": [
    {
     "data": {
      "text/plain": [
       "np.int64(0)"
      ]
     },
     "execution_count": 8,
     "metadata": {},
     "output_type": "execute_result"
    }
   ],
   "source": [
    "df.duplicated().sum()"
   ]
  },
  {
   "cell_type": "code",
   "execution_count": 11,
   "id": "9a64e30f-8e73-41ee-bcfb-f94e746a5976",
   "metadata": {},
   "outputs": [
    {
     "name": "stdout",
     "output_type": "stream",
     "text": [
      "Before:\n",
      "      Name  Score\n",
      "0       A   90.0\n",
      "1       B    NaN\n",
      "2       C   75.0\n",
      "3  Lavika    NaN\n",
      "\n",
      "After Filling NaN:\n",
      "      Name  Score\n",
      "0       A   90.0\n",
      "1       B   82.5\n",
      "2       C   75.0\n",
      "3  Lavika   82.5\n"
     ]
    },
    {
     "name": "stderr",
     "output_type": "stream",
     "text": [
      "C:\\Users\\lenovo\\AppData\\Local\\Temp\\ipykernel_14316\\3609439884.py:9: FutureWarning: A value is trying to be set on a copy of a DataFrame or Series through chained assignment using an inplace method.\n",
      "The behavior will change in pandas 3.0. This inplace method will never work because the intermediate object on which we are setting values always behaves as a copy.\n",
      "\n",
      "For example, when doing 'df[col].method(value, inplace=True)', try using 'df.method({col: value}, inplace=True)' or df[col] = df[col].method(value) instead, to perform the operation inplace on the original object.\n",
      "\n",
      "\n",
      "  df2['Score'].fillna(df2['Score'].mean(), inplace=True)\n"
     ]
    }
   ],
   "source": [
    "data = {\n",
    "    'Name': ['A', 'B', 'C', 'Lavika'],\n",
    "    'Score': [90, None, 75, None]\n",
    "}\n",
    "\n",
    "df2 = pd.DataFrame(data)\n",
    "print(\"Before:\\n\", df2)\n",
    "\n",
    "df2['Score'].fillna(df2['Score'].mean(), inplace=True)\n",
    "print(\"\\nAfter Filling NaN:\\n\", df2)"
   ]
  },
  {
   "cell_type": "code",
   "execution_count": 14,
   "id": "3e0ec3c9-deea-48e1-9bf5-e0a87e229d3d",
   "metadata": {},
   "outputs": [
    {
     "name": "stdout",
     "output_type": "stream",
     "text": [
      "Class\n",
      "X    90.0\n",
      "Y    83.0\n",
      "Name: Marks, dtype: float64\n"
     ]
    }
   ],
   "source": [
    "data = {\n",
    "    'Name': ['Arohi', 'Sharayu', 'Harshu', 'Dipali', 'Shipra'],\n",
    "    'Class': ['X', 'X', 'Y', 'Y', 'X'],\n",
    "    'Marks': [85, 90, 78, 88, 95]\n",
    "}\n",
    "\n",
    "df3 = pd.DataFrame(data)\n",
    "print(df3.groupby('Class')['Marks'].mean())"
   ]
  },
  {
   "cell_type": "code",
   "execution_count": 16,
   "id": "9b40670d-c245-419e-846f-136adca09423",
   "metadata": {},
   "outputs": [
    {
     "name": "stdout",
     "output_type": "stream",
     "text": [
      "  Department  Student  Marks  Age\n",
      "0         IT   Nikita     88   21\n",
      "1         IT   Kinjal     92   20\n",
      "2         CS   Lavika     76   23\n",
      "3         CS    Meena     85   22\n",
      "4         EC  Shambhu     95   21\n",
      "5         EC     Neha     90   20\n",
      "6         IT    Avani     88   22\n",
      "7         CS     Sita     72   24\n"
     ]
    }
   ],
   "source": [
    "import pandas as pd\n",
    "\n",
    "data = {\n",
    "    'Department': ['IT','IT','CS','CS','EC','EC','IT','CS'],\n",
    "    'Student': ['Nikita','Kinjal','Lavika','Meena','Shambhu','Neha','Avani','Sita'],\n",
    "    'Marks': [88,92,76,85,95,90,88,72],\n",
    "    'Age': [21,20,23,22,21,20,22,24]\n",
    "}\n",
    "\n",
    "df = pd.DataFrame(data)\n",
    "print(df)\n"
   ]
  },
  {
   "cell_type": "code",
   "execution_count": 17,
   "id": "68d1b78c-9df2-4c62-9bf4-d7d11328e006",
   "metadata": {},
   "outputs": [
    {
     "data": {
      "text/plain": [
       "Department\n",
       "CS    77.666667\n",
       "EC    92.500000\n",
       "IT    89.333333\n",
       "Name: Marks, dtype: float64"
      ]
     },
     "execution_count": 17,
     "metadata": {},
     "output_type": "execute_result"
    }
   ],
   "source": [
    "df.groupby('Department')['Marks'].mean()"
   ]
  },
  {
   "cell_type": "code",
   "execution_count": 18,
   "id": "74c0a86c-d6d7-4c3b-bedd-970e68cac0cb",
   "metadata": {},
   "outputs": [
    {
     "data": {
      "text/html": [
       "<div>\n",
       "<style scoped>\n",
       "    .dataframe tbody tr th:only-of-type {\n",
       "        vertical-align: middle;\n",
       "    }\n",
       "\n",
       "    .dataframe tbody tr th {\n",
       "        vertical-align: top;\n",
       "    }\n",
       "\n",
       "    .dataframe thead th {\n",
       "        text-align: right;\n",
       "    }\n",
       "</style>\n",
       "<table border=\"1\" class=\"dataframe\">\n",
       "  <thead>\n",
       "    <tr style=\"text-align: right;\">\n",
       "      <th></th>\n",
       "      <th>mean</th>\n",
       "      <th>max</th>\n",
       "      <th>min</th>\n",
       "      <th>count</th>\n",
       "    </tr>\n",
       "    <tr>\n",
       "      <th>Department</th>\n",
       "      <th></th>\n",
       "      <th></th>\n",
       "      <th></th>\n",
       "      <th></th>\n",
       "    </tr>\n",
       "  </thead>\n",
       "  <tbody>\n",
       "    <tr>\n",
       "      <th>CS</th>\n",
       "      <td>77.666667</td>\n",
       "      <td>85</td>\n",
       "      <td>72</td>\n",
       "      <td>3</td>\n",
       "    </tr>\n",
       "    <tr>\n",
       "      <th>EC</th>\n",
       "      <td>92.500000</td>\n",
       "      <td>95</td>\n",
       "      <td>90</td>\n",
       "      <td>2</td>\n",
       "    </tr>\n",
       "    <tr>\n",
       "      <th>IT</th>\n",
       "      <td>89.333333</td>\n",
       "      <td>92</td>\n",
       "      <td>88</td>\n",
       "      <td>3</td>\n",
       "    </tr>\n",
       "  </tbody>\n",
       "</table>\n",
       "</div>"
      ],
      "text/plain": [
       "                 mean  max  min  count\n",
       "Department                            \n",
       "CS          77.666667   85   72      3\n",
       "EC          92.500000   95   90      2\n",
       "IT          89.333333   92   88      3"
      ]
     },
     "execution_count": 18,
     "metadata": {},
     "output_type": "execute_result"
    }
   ],
   "source": [
    "df.groupby('Department')['Marks'].agg(['mean','max','min','count'])"
   ]
  },
  {
   "cell_type": "code",
   "execution_count": null,
   "id": "7f01fecd-8b47-4445-bb6c-a91abad33598",
   "metadata": {},
   "outputs": [],
   "source": []
  }
 ],
 "metadata": {
  "kernelspec": {
   "display_name": "Python 3 (ipykernel)",
   "language": "python",
   "name": "python3"
  },
  "language_info": {
   "codemirror_mode": {
    "name": "ipython",
    "version": 3
   },
   "file_extension": ".py",
   "mimetype": "text/x-python",
   "name": "python",
   "nbconvert_exporter": "python",
   "pygments_lexer": "ipython3",
   "version": "3.13.5"
  }
 },
 "nbformat": 4,
 "nbformat_minor": 5
}
