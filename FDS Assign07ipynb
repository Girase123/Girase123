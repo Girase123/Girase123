{
 "cells": [
  {
   "cell_type": "code",
   "execution_count": null,
   "id": "a2e48536-db13-49ba-ac8d-f5fb4f5aba46",
   "metadata": {},
   "outputs": [],
   "source": []
  }
 ],
 "metadata": {
  "kernelspec": {
   "display_name": "",
   "name": ""
  },
  "language_info": {
   "name": ""
  }
 },
 "nbformat": 4,
 "nbformat_minor": 5
}
