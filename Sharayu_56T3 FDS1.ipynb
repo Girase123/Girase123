{
 "cells": [
  {
   "cell_type": "code",
   "execution_count": 2,
   "id": "b0ff2ca5-9ae9-4755-9624-db3cd72ce987",
   "metadata": {},
   "outputs": [],
   "source": [
    "def greet(name):\n",
    "    \"\"\"Return a greeting message for the given name.\"\"\"\n",
    "    return f\"Hello, {name}!\""
   ]
  },
  {
   "cell_type": "code",
   "execution_count": 3,
   "id": "a0c430b7-c73d-4662-90d9-3f0d9fb06c34",
   "metadata": {},
   "outputs": [
    {
     "name": "stdout",
     "output_type": "stream",
     "text": [
      "Help on function greet in module __main__:\n",
      "\n",
      "greet(name)\n",
      "    Return a greeting message for the given name.\n",
      "\n"
     ]
    }
   ],
   "source": [
    "help(greet)"
   ]
  },
  {
   "cell_type": "code",
   "execution_count": 4,
   "id": "d06e3554-6aa3-4285-9c32-504f5861f3ea",
   "metadata": {},
   "outputs": [
    {
     "name": "stdout",
     "output_type": "stream",
     "text": [
      "Return a greeting message for the given name.\n"
     ]
    }
   ],
   "source": [
    "print(greet.__doc__)"
   ]
  },
  {
   "cell_type": "code",
   "execution_count": 5,
   "id": "54234685-25ee-4938-9d4c-0d9a2562cf52",
   "metadata": {},
   "outputs": [],
   "source": [
    "def add_numbers(a, b):\n",
    "    \"\"\"\n",
    "    Add two numbers and return the result.\n",
    "\n",
    "    Parameters:\n",
    "    a (int or float): First number\n",
    "    b (int or float): Second number\n",
    "\n",
    "    Returns:\n",
    "    int or float: Sum of a and b\n",
    "    \"\"\"\n",
    "    return a + b"
   ]
  },
  {
   "cell_type": "code",
   "execution_count": 6,
   "id": "eaa75037-ff58-4282-b6cd-21cb2d2d7c88",
   "metadata": {},
   "outputs": [
    {
     "name": "stdout",
     "output_type": "stream",
     "text": [
      "Help on function add_numbers in module __main__:\n",
      "\n",
      "add_numbers(a, b)\n",
      "    Add two numbers and return the result.\n",
      "\n",
      "    Parameters:\n",
      "    a (int or float): First number\n",
      "    b (int or float): Second number\n",
      "\n",
      "    Returns:\n",
      "    int or float: Sum of a and b\n",
      "\n"
     ]
    }
   ],
   "source": [
    "help(add_numbers)"
   ]
  },
  {
   "cell_type": "code",
   "execution_count": 7,
   "id": "617feb24-724d-4884-8e19-a30926d8ef7c",
   "metadata": {},
   "outputs": [
    {
     "name": "stdout",
     "output_type": "stream",
     "text": [
      "\n",
      "Add two numbers and return the result.\n",
      "\n",
      "Parameters:\n",
      "a (int or float): First number\n",
      "b (int or float): Second number\n",
      "\n",
      "Returns:\n",
      "int or float: Sum of a and b\n",
      "\n"
     ]
    }
   ],
   "source": [
    "print(add_numbers.__doc__)"
   ]
  },
  {
   "cell_type": "code",
   "execution_count": 8,
   "id": "91513e94-5a67-45b7-9dad-eface57c4995",
   "metadata": {},
   "outputs": [
    {
     "name": "stdout",
     "output_type": "stream",
     "text": [
      "Original Array: [ 1  2  3  4  5  6  7  8  9 10]\n",
      "Reshaped Array:\n",
      " [[ 1  2  3  4  5]\n",
      " [ 6  7  8  9 10]]\n",
      "Addition: [ 6  7  8  9 10 11 12 13 14 15]\n",
      "Multiplication: [ 2  4  6  8 10 12 14 16 18 20]\n",
      "Exponentiation: [  1   4   9  16  25  36  49  64  81 100]\n",
      "Index of Max Value: 9\n",
      "Index of Min Value: 0\n",
      "Linspace Array: [0.   0.25 0.5  0.75 1.  ]\n",
      "Differences: [1 1 1 1 1 1 1 1 1]\n"
     ]
    }
   ],
   "source": [
    "# Import NumPy\n",
    "import numpy as np\n",
    "\n",
    "# Create an array using arange\n",
    "arr = np.arange(1, 11)\n",
    "print(\"Original Array:\", arr)\n",
    "\n",
    "# Reshape the array to 2x5\n",
    "reshaped_arr = arr.reshape(2, 5)\n",
    "print(\"Reshaped Array:\\n\", reshaped_arr)\n",
    "\n",
    "# Perform arithmetic operations\n",
    "print(\"Addition:\", arr + 5)\n",
    "print(\"Multiplication:\", arr * 2)\n",
    "print(\"Exponentiation:\", arr ** 2)\n",
    "\n",
    "# Use argmax and argmin\n",
    "print(\"Index of Max Value:\", arr.argmax())\n",
    "print(\"Index of Min Value:\", arr.argmin())\n",
    "\n",
    "# Use linspace to create evenly spaced values\n",
    "lin_arr = np.linspace(0, 1, 5)\n",
    "print(\"Linspace Array:\", lin_arr)\n",
    "\n",
    "# Use diff to find differences between elements\n",
    "print(\"Differences:\", np.diff(arr))"
   ]
  },
  {
   "cell_type": "code",
   "execution_count": null,
   "id": "c020830b-032c-403d-96fb-43d52d12b4c7",
   "metadata": {},
   "outputs": [],
   "source": []
  }
 ],
 "metadata": {
  "kernelspec": {
   "display_name": "Python 3 (ipykernel)",
   "language": "python",
   "name": "python3"
  },
  "language_info": {
   "codemirror_mode": {
    "name": "ipython",
    "version": 3
   },
   "file_extension": ".py",
   "mimetype": "text/x-python",
   "name": "python",
   "nbconvert_exporter": "python",
   "pygments_lexer": "ipython3",
   "version": "3.13.5"
  }
 },
 "nbformat": 4,
 "nbformat_minor": 5
}
